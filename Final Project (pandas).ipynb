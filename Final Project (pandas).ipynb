{
 "cells": [
  {
   "cell_type": "code",
   "execution_count": 1,
   "id": "previous-expert",
   "metadata": {},
   "outputs": [],
   "source": [
    "import numpy as np\n",
    "import pandas as pd\n",
    "import matplotlib.pyplot as plt\n",
    "import dask.dataframe as dd\n",
    "import dask.bag as db\n",
    "import tqdm \n",
    "\n",
    "from distributed import Client\n",
    "from dask_jobqueue import SLURMCluster\n",
    "from IPython.display import display\n",
    "\n",
    "import os\n",
    "from glob import glob"
   ]
  },
  {
   "cell_type": "code",
   "execution_count": 2,
   "id": "editorial-brand",
   "metadata": {},
   "outputs": [
    {
     "data": {
      "text/html": [
       "<table style=\"border: 2px solid white;\">\n",
       "<tr>\n",
       "<td style=\"vertical-align: top; border: 0px solid white\">\n",
       "<h3 style=\"text-align: left;\">Client</h3>\n",
       "<ul style=\"text-align: left; list-style: none; margin: 0; padding: 0;\">\n",
       "  <li><b>Scheduler: </b>tcp://127.0.0.1:36145</li>\n",
       "  <li><b>Dashboard: </b><a href='http://127.0.0.1:8787/status' target='_blank'>http://127.0.0.1:8787/status</a></li>\n",
       "</ul>\n",
       "</td>\n",
       "<td style=\"vertical-align: top; border: 0px solid white\">\n",
       "<h3 style=\"text-align: left;\">Cluster</h3>\n",
       "<ul style=\"text-align: left; list-style:none; margin: 0; padding: 0;\">\n",
       "  <li><b>Workers: </b>4</li>\n",
       "  <li><b>Cores: </b>4</li>\n",
       "  <li><b>Memory: </b>34.36 GB</li>\n",
       "</ul>\n",
       "</td>\n",
       "</tr>\n",
       "</table>"
      ],
      "text/plain": [
       "<Client: 'tcp://127.0.0.1:36145' processes=4 threads=4, memory=34.36 GB>"
      ]
     },
     "metadata": {},
     "output_type": "display_data"
    }
   ],
   "source": [
    "# Set LOCAL to True for single-machine execution while developing\n",
    "# Set LOCAL to False for cluster execution\n",
    "LOCAL = True\n",
    "\n",
    "if LOCAL:\n",
    "    # This line creates a single-machine dask client\n",
    "    client = Client()\n",
    "else:    \n",
    "    # This line creates a SLURM cluster dask and dask client\n",
    "    # Logging outputs will be stored in /scratch/{your-netid}\n",
    "    \n",
    "    cluster = SLURMCluster(memory='256GB', cores=8, python='/scratch/work/public/dask/bin/python', \n",
    "                               local_directory='/tmp/{}/'.format(os.environ['SLURM_JOB_USER']),\n",
    "                               job_extra=['--output=/scratch/{}/slurm-%j.out'.format(os.environ['SLURM_JOB_USER'])])\n",
    "\n",
    "    cluster.submit_command = 'slurm'\n",
    "    cluster.scale(100)\n",
    "\n",
    "    display(cluster)\n",
    "    client = Client(cluster)\n",
    "\n",
    "display(client)"
   ]
  },
  {
   "cell_type": "code",
   "execution_count": 3,
   "id": "distinguished-anthony",
   "metadata": {},
   "outputs": [],
   "source": [
    "os.chdir('/scratch/work/courses/DSGA1004-2021/movielens/ml-latest-small')"
   ]
  },
  {
   "cell_type": "code",
   "execution_count": 4,
   "id": "formal-angola",
   "metadata": {
    "scrolled": true
   },
   "outputs": [
    {
     "name": "stdout",
     "output_type": "stream",
     "text": [
      "This dataset contains 100836 rows and 4 columns.\n"
     ]
    },
    {
     "data": {
      "text/html": [
       "<div>\n",
       "<style scoped>\n",
       "    .dataframe tbody tr th:only-of-type {\n",
       "        vertical-align: middle;\n",
       "    }\n",
       "\n",
       "    .dataframe tbody tr th {\n",
       "        vertical-align: top;\n",
       "    }\n",
       "\n",
       "    .dataframe thead th {\n",
       "        text-align: right;\n",
       "    }\n",
       "</style>\n",
       "<table border=\"1\" class=\"dataframe\">\n",
       "  <thead>\n",
       "    <tr style=\"text-align: right;\">\n",
       "      <th></th>\n",
       "      <th>userId</th>\n",
       "      <th>movieId</th>\n",
       "      <th>rating</th>\n",
       "      <th>timestamp</th>\n",
       "    </tr>\n",
       "  </thead>\n",
       "  <tbody>\n",
       "    <tr>\n",
       "      <th>0</th>\n",
       "      <td>429</td>\n",
       "      <td>595</td>\n",
       "      <td>5.0</td>\n",
       "      <td>828124615</td>\n",
       "    </tr>\n",
       "    <tr>\n",
       "      <th>1</th>\n",
       "      <td>429</td>\n",
       "      <td>588</td>\n",
       "      <td>5.0</td>\n",
       "      <td>828124615</td>\n",
       "    </tr>\n",
       "    <tr>\n",
       "      <th>2</th>\n",
       "      <td>429</td>\n",
       "      <td>590</td>\n",
       "      <td>5.0</td>\n",
       "      <td>828124615</td>\n",
       "    </tr>\n",
       "    <tr>\n",
       "      <th>3</th>\n",
       "      <td>429</td>\n",
       "      <td>592</td>\n",
       "      <td>5.0</td>\n",
       "      <td>828124615</td>\n",
       "    </tr>\n",
       "    <tr>\n",
       "      <th>4</th>\n",
       "      <td>429</td>\n",
       "      <td>432</td>\n",
       "      <td>3.0</td>\n",
       "      <td>828124615</td>\n",
       "    </tr>\n",
       "  </tbody>\n",
       "</table>\n",
       "</div>"
      ],
      "text/plain": [
       "   userId  movieId  rating  timestamp\n",
       "0     429      595     5.0  828124615\n",
       "1     429      588     5.0  828124615\n",
       "2     429      590     5.0  828124615\n",
       "3     429      592     5.0  828124615\n",
       "4     429      432     3.0  828124615"
      ]
     },
     "execution_count": 4,
     "metadata": {},
     "output_type": "execute_result"
    }
   ],
   "source": [
    "# Import the ratings dataset\n",
    "ratings_df = pd.read_csv('ratings.csv').sort_values(by=\"timestamp\").reset_index(drop=True)\n",
    "print(\"This dataset contains {} rows and {} columns.\".format(ratings_df.shape[0], ratings_df.shape[1]))\n",
    "ratings_df.head()"
   ]
  },
  {
   "cell_type": "code",
   "execution_count": 5,
   "id": "suffering-comparative",
   "metadata": {},
   "outputs": [
    {
     "name": "stdout",
     "output_type": "stream",
     "text": [
      "458         5\n",
      "112788      5\n",
      "40414       5\n",
      "6832        5\n",
      "3724        5\n",
      "         ... \n",
      "2571      278\n",
      "593       279\n",
      "296       307\n",
      "318       317\n",
      "356       329\n",
      "Name: movieId, Length: 3650, dtype: int64\n"
     ]
    }
   ],
   "source": [
    "# Count the number of ratings for each movie\n",
    "num_ratings_per_movie = ratings_df.groupby(\"movieId\").count()[\"rating\"]\n",
    "\n",
    "# Only keep movies with at least 5 ratings (e.g. we don't want to treat a movie that was rated 5 stars by too few people to be considered popular)\n",
    "ratings_df = ratings_df.join(num_ratings_per_movie, on = \"movieId\", rsuffix=\"_count\")\n",
    "ratings_df = ratings_df[ratings_df[\"rating_count\"] >= 5]\n",
    "ratings_df.drop(columns=[\"rating_count\"], inplace=True)\n",
    "\n",
    "# Compute how many times each movie has been rated\n",
    "print(ratings_df[\"movieId\"].value_counts(ascending=True))"
   ]
  },
  {
   "cell_type": "markdown",
   "id": "hourly-married",
   "metadata": {
    "tags": []
   },
   "source": [
    "## Training-validation-test split"
   ]
  },
  {
   "cell_type": "markdown",
   "id": "dress-green",
   "metadata": {},
   "source": [
    "Split each user's data into training-validation-test set. First, we will separate 20% of the users to be part of the test set. Then for each remaining user, use 80% of their ratings for training and 20% for validation. We do this so that our recommender system generalizes across different kinds of users."
   ]
  },
  {
   "cell_type": "code",
   "execution_count": 6,
   "id": "understood-dealer",
   "metadata": {},
   "outputs": [],
   "source": [
    "train_users = np.random.choice(ratings_df['userId'].unique(), int(len(ratings_df['userId'].unique()) * 0.8), replace=False)\n",
    "\n",
    "train_val_df = ratings_df[ratings_df['userId'].isin(train_users)]\n",
    "test_df = ratings_df[~ratings_df['userId'].isin(train_users)]"
   ]
  },
  {
   "cell_type": "code",
   "execution_count": 7,
   "id": "separate-agreement",
   "metadata": {},
   "outputs": [],
   "source": [
    "# For each user, compute the number of ratings they submitted\n",
    "num_ratings_per_user = train_val_df.groupby('userId').count()['rating']"
   ]
  },
  {
   "cell_type": "code",
   "execution_count": 8,
   "id": "robust-jimmy",
   "metadata": {},
   "outputs": [
    {
     "name": "stderr",
     "output_type": "stream",
     "text": [
      "<ipython-input-8-d7ab56e65984>:4: TqdmDeprecationWarning: This function will be removed in tqdm==5.0.0\n",
      "Please use `tqdm.notebook.tqdm` instead of `tqdm.tqdm_notebook`\n",
      "  for userId, num_ratings in tqdm.tqdm_notebook(list(zip(num_ratings_per_user.index, num_ratings_per_user))):\n"
     ]
    },
    {
     "data": {
      "application/vnd.jupyter.widget-view+json": {
       "model_id": "14a4af55df18423fa1f040bb6fa70386",
       "version_major": 2,
       "version_minor": 0
      },
      "text/plain": [
       "  0%|          | 0/488 [00:00<?, ?it/s]"
      ]
     },
     "metadata": {},
     "output_type": "display_data"
    }
   ],
   "source": [
    "# Create training and validation sets for each user\n",
    "train_df, val_df = pd.DataFrame(), pd.DataFrame()\n",
    "\n",
    "for userId, num_ratings in tqdm.tqdm_notebook(list(zip(num_ratings_per_user.index, num_ratings_per_user))):\n",
    "    # Get all the ratings for this user\n",
    "    user_ratings = train_val_df[train_val_df['userId'] == userId].reset_index(drop=True)\n",
    "    \n",
    "    # Make the first 80% of this user's ratings the training set\n",
    "    index_train = int(0.8*num_ratings)\n",
    "    user_train = user_ratings.loc[:index_train-1, :]\n",
    "    \n",
    "    # Make the other 20% of this user's ratings the validation set\n",
    "    user_val = user_ratings.loc[index_train:, :]\n",
    "    \n",
    "    # Add this user's individual training and validation sets to the unified training and\n",
    "    # validation sets, respectively\n",
    "    train_df = pd.concat([train_df, user_train], axis=0)\n",
    "    val_df = pd.concat([val_df, user_val], axis=0)"
   ]
  },
  {
   "cell_type": "code",
   "execution_count": 9,
   "id": "devoted-fight",
   "metadata": {},
   "outputs": [
    {
     "name": "stdout",
     "output_type": "stream",
     "text": [
      "90274\n",
      "90274\n"
     ]
    }
   ],
   "source": [
    "# Sanity check (these should match)\n",
    "print(len(ratings_df))\n",
    "print(sum([len(train_df), len(val_df), len(test_df)]))"
   ]
  },
  {
   "cell_type": "markdown",
   "id": "violent-cornell",
   "metadata": {},
   "source": [
    "# Baseline Model"
   ]
  },
  {
   "cell_type": "markdown",
   "id": "relative-margin",
   "metadata": {},
   "source": [
    "Compute the mean rating of each movie by grouping by movieId, and aggregating by mean. Note that we don't want to explicitly compute the utility matrix, because doing so will take a very long time, and the resulting matrix will be very large and take up a lot of memory.\n",
    "\n",
    "We compute the 100 highest mean-rated movies from the training set. We will recommend these 100 movies to every single user in the validation set."
   ]
  },
  {
   "cell_type": "code",
   "execution_count": 10,
   "id": "proof-rolling",
   "metadata": {},
   "outputs": [
    {
     "data": {
      "image/png": "[encoded data removed]",
      "text/plain": [
       "<Figure size 432x288 with 1 Axes>"
      ]
     },
     "metadata": {
      "needs_background": "light"
     },
     "output_type": "display_data"
    }
   ],
   "source": [
    "plt.hist(train_df.groupby('movieId').count()['userId'], bins=50)\n",
    "plt.show()"
   ]
  },
  {
   "cell_type": "code",
   "execution_count": 11,
   "id": "painful-belfast",
   "metadata": {},
   "outputs": [
    {
     "name": "stdout",
     "output_type": "stream",
     "text": [
      "[187595    891 102033  54881  31364  26084 130490  87529 177593   6460\n",
      "    213   1178    232   2360  67997 120635  98491   3925 106642    942\n",
      "  83803   7669   2732     82   1927   1280   1204    905   3435   1217\n",
      "  55363  44694   8827  33154   1177  73323  78637  26131  82169    994\n",
      "   3470   8128    334    951   1354   1041   1633   2202   2239   2357\n",
      "   2436    627   3019   3182   3201   3468   3469   4334   3265   3811\n",
      " 158966 187593 113378 157699   3030    162   7156   3429    971   3983\n",
      "    898   1104   3200   2648   3814   7132   1243  85342   2351   3152\n",
      "  31410   5690    922    933    318  27803   2159    945   3153 168252\n",
      "   1235    965    930  53129   1361  55814   1951   3334  47999    750]\n"
     ]
    }
   ],
   "source": [
    "# Compute mean ratings\n",
    "mean_ratings = train_df[[\"movieId\", \"rating\"]].groupby(\"movieId\").mean()[\"rating\"].sort_values(ascending=False)\n",
    "\n",
    "# We need to recommend to everyone in the validation set the 100 movies that we learned from the training set\n",
    "R_i = np.array(mean_ratings.head(100).index)\n",
    "print(R_i)"
   ]
  },
  {
   "cell_type": "markdown",
   "id": "departmental-monroe",
   "metadata": {},
   "source": [
    "## Recommendation Algorithm"
   ]
  },
  {
   "cell_type": "code",
   "execution_count": 12,
   "id": "little-adrian",
   "metadata": {},
   "outputs": [],
   "source": [
    "# Number of users in the validation data\n",
    "users = val_df['userId'].unique()\n",
    "n_users = len(users)\n",
    "\n",
    "# Number of movies that we recommend to each user\n",
    "n_recs = 100\n",
    "\n",
    "# Initialize array of relevances\n",
    "rel_D = pd.DataFrame(np.empty(shape=(n_users, n_recs)), index=users, columns=R_i)"
   ]
  },
  {
   "cell_type": "markdown",
   "id": "saved-mercy",
   "metadata": {},
   "source": [
    "For faster computation, we'd like to create a list of arrays `D`, where each element of the list (`D[i]`) is an array containing the validation data of the highest-rated movies by this user (from highest to lowest rating). But to do this, we need to sort the entire validation data from highest to lowest rating, so that `.get_group` will return a movies array sorted from highest to lowest rating as well."
   ]
  },
  {
   "cell_type": "code",
   "execution_count": 13,
   "id": "directed-patio",
   "metadata": {},
   "outputs": [
    {
     "data": {
      "text/html": [
       "<div>\n",
       "<style scoped>\n",
       "    .dataframe tbody tr th:only-of-type {\n",
       "        vertical-align: middle;\n",
       "    }\n",
       "\n",
       "    .dataframe tbody tr th {\n",
       "        vertical-align: top;\n",
       "    }\n",
       "\n",
       "    .dataframe thead th {\n",
       "        text-align: right;\n",
       "    }\n",
       "</style>\n",
       "<table border=\"1\" class=\"dataframe\">\n",
       "  <thead>\n",
       "    <tr style=\"text-align: right;\">\n",
       "      <th></th>\n",
       "      <th>187595</th>\n",
       "      <th>891</th>\n",
       "      <th>102033</th>\n",
       "      <th>54881</th>\n",
       "      <th>31364</th>\n",
       "      <th>26084</th>\n",
       "      <th>130490</th>\n",
       "      <th>87529</th>\n",
       "      <th>177593</th>\n",
       "      <th>6460</th>\n",
       "      <th>...</th>\n",
       "      <th>1235</th>\n",
       "      <th>965</th>\n",
       "      <th>930</th>\n",
       "      <th>53129</th>\n",
       "      <th>1361</th>\n",
       "      <th>55814</th>\n",
       "      <th>1951</th>\n",
       "      <th>3334</th>\n",
       "      <th>47999</th>\n",
       "      <th>750</th>\n",
       "    </tr>\n",
       "  </thead>\n",
       "  <tbody>\n",
       "    <tr>\n",
       "      <th>1</th>\n",
       "      <td>0</td>\n",
       "      <td>0</td>\n",
       "      <td>0</td>\n",
       "      <td>0</td>\n",
       "      <td>0</td>\n",
       "      <td>0</td>\n",
       "      <td>0</td>\n",
       "      <td>0</td>\n",
       "      <td>0</td>\n",
       "      <td>0</td>\n",
       "      <td>...</td>\n",
       "      <td>0</td>\n",
       "      <td>0</td>\n",
       "      <td>0</td>\n",
       "      <td>0</td>\n",
       "      <td>0</td>\n",
       "      <td>0</td>\n",
       "      <td>0</td>\n",
       "      <td>0</td>\n",
       "      <td>0</td>\n",
       "      <td>0</td>\n",
       "    </tr>\n",
       "    <tr>\n",
       "      <th>2</th>\n",
       "      <td>0</td>\n",
       "      <td>0</td>\n",
       "      <td>0</td>\n",
       "      <td>0</td>\n",
       "      <td>0</td>\n",
       "      <td>0</td>\n",
       "      <td>0</td>\n",
       "      <td>0</td>\n",
       "      <td>0</td>\n",
       "      <td>0</td>\n",
       "      <td>...</td>\n",
       "      <td>0</td>\n",
       "      <td>0</td>\n",
       "      <td>0</td>\n",
       "      <td>0</td>\n",
       "      <td>0</td>\n",
       "      <td>0</td>\n",
       "      <td>0</td>\n",
       "      <td>0</td>\n",
       "      <td>0</td>\n",
       "      <td>0</td>\n",
       "    </tr>\n",
       "    <tr>\n",
       "      <th>3</th>\n",
       "      <td>0</td>\n",
       "      <td>0</td>\n",
       "      <td>0</td>\n",
       "      <td>0</td>\n",
       "      <td>0</td>\n",
       "      <td>0</td>\n",
       "      <td>0</td>\n",
       "      <td>0</td>\n",
       "      <td>0</td>\n",
       "      <td>0</td>\n",
       "      <td>...</td>\n",
       "      <td>0</td>\n",
       "      <td>0</td>\n",
       "      <td>0</td>\n",
       "      <td>0</td>\n",
       "      <td>0</td>\n",
       "      <td>0</td>\n",
       "      <td>0</td>\n",
       "      <td>0</td>\n",
       "      <td>0</td>\n",
       "      <td>0</td>\n",
       "    </tr>\n",
       "    <tr>\n",
       "      <th>4</th>\n",
       "      <td>0</td>\n",
       "      <td>0</td>\n",
       "      <td>0</td>\n",
       "      <td>0</td>\n",
       "      <td>0</td>\n",
       "      <td>0</td>\n",
       "      <td>0</td>\n",
       "      <td>0</td>\n",
       "      <td>0</td>\n",
       "      <td>0</td>\n",
       "      <td>...</td>\n",
       "      <td>0</td>\n",
       "      <td>0</td>\n",
       "      <td>0</td>\n",
       "      <td>0</td>\n",
       "      <td>0</td>\n",
       "      <td>0</td>\n",
       "      <td>0</td>\n",
       "      <td>0</td>\n",
       "      <td>0</td>\n",
       "      <td>0</td>\n",
       "    </tr>\n",
       "    <tr>\n",
       "      <th>5</th>\n",
       "      <td>0</td>\n",
       "      <td>0</td>\n",
       "      <td>0</td>\n",
       "      <td>0</td>\n",
       "      <td>0</td>\n",
       "      <td>0</td>\n",
       "      <td>0</td>\n",
       "      <td>0</td>\n",
       "      <td>0</td>\n",
       "      <td>0</td>\n",
       "      <td>...</td>\n",
       "      <td>0</td>\n",
       "      <td>0</td>\n",
       "      <td>0</td>\n",
       "      <td>0</td>\n",
       "      <td>0</td>\n",
       "      <td>0</td>\n",
       "      <td>0</td>\n",
       "      <td>0</td>\n",
       "      <td>0</td>\n",
       "      <td>0</td>\n",
       "    </tr>\n",
       "    <tr>\n",
       "      <th>...</th>\n",
       "      <td>...</td>\n",
       "      <td>...</td>\n",
       "      <td>...</td>\n",
       "      <td>...</td>\n",
       "      <td>...</td>\n",
       "      <td>...</td>\n",
       "      <td>...</td>\n",
       "      <td>...</td>\n",
       "      <td>...</td>\n",
       "      <td>...</td>\n",
       "      <td>...</td>\n",
       "      <td>...</td>\n",
       "      <td>...</td>\n",
       "      <td>...</td>\n",
       "      <td>...</td>\n",
       "      <td>...</td>\n",
       "      <td>...</td>\n",
       "      <td>...</td>\n",
       "      <td>...</td>\n",
       "      <td>...</td>\n",
       "      <td>...</td>\n",
       "    </tr>\n",
       "    <tr>\n",
       "      <th>606</th>\n",
       "      <td>0</td>\n",
       "      <td>0</td>\n",
       "      <td>0</td>\n",
       "      <td>0</td>\n",
       "      <td>0</td>\n",
       "      <td>0</td>\n",
       "      <td>0</td>\n",
       "      <td>0</td>\n",
       "      <td>0</td>\n",
       "      <td>0</td>\n",
       "      <td>...</td>\n",
       "      <td>0</td>\n",
       "      <td>0</td>\n",
       "      <td>0</td>\n",
       "      <td>0</td>\n",
       "      <td>0</td>\n",
       "      <td>0</td>\n",
       "      <td>0</td>\n",
       "      <td>0</td>\n",
       "      <td>0</td>\n",
       "      <td>0</td>\n",
       "    </tr>\n",
       "    <tr>\n",
       "      <th>607</th>\n",
       "      <td>0</td>\n",
       "      <td>0</td>\n",
       "      <td>0</td>\n",
       "      <td>0</td>\n",
       "      <td>0</td>\n",
       "      <td>0</td>\n",
       "      <td>0</td>\n",
       "      <td>0</td>\n",
       "      <td>0</td>\n",
       "      <td>0</td>\n",
       "      <td>...</td>\n",
       "      <td>0</td>\n",
       "      <td>0</td>\n",
       "      <td>0</td>\n",
       "      <td>0</td>\n",
       "      <td>0</td>\n",
       "      <td>0</td>\n",
       "      <td>0</td>\n",
       "      <td>0</td>\n",
       "      <td>0</td>\n",
       "      <td>0</td>\n",
       "    </tr>\n",
       "    <tr>\n",
       "      <th>608</th>\n",
       "      <td>0</td>\n",
       "      <td>0</td>\n",
       "      <td>0</td>\n",
       "      <td>0</td>\n",
       "      <td>0</td>\n",
       "      <td>0</td>\n",
       "      <td>0</td>\n",
       "      <td>0</td>\n",
       "      <td>0</td>\n",
       "      <td>0</td>\n",
       "      <td>...</td>\n",
       "      <td>0</td>\n",
       "      <td>0</td>\n",
       "      <td>0</td>\n",
       "      <td>0</td>\n",
       "      <td>0</td>\n",
       "      <td>0</td>\n",
       "      <td>0</td>\n",
       "      <td>0</td>\n",
       "      <td>0</td>\n",
       "      <td>0</td>\n",
       "    </tr>\n",
       "    <tr>\n",
       "      <th>609</th>\n",
       "      <td>0</td>\n",
       "      <td>0</td>\n",
       "      <td>0</td>\n",
       "      <td>0</td>\n",
       "      <td>0</td>\n",
       "      <td>0</td>\n",
       "      <td>0</td>\n",
       "      <td>0</td>\n",
       "      <td>0</td>\n",
       "      <td>0</td>\n",
       "      <td>...</td>\n",
       "      <td>0</td>\n",
       "      <td>0</td>\n",
       "      <td>0</td>\n",
       "      <td>0</td>\n",
       "      <td>0</td>\n",
       "      <td>0</td>\n",
       "      <td>0</td>\n",
       "      <td>0</td>\n",
       "      <td>0</td>\n",
       "      <td>0</td>\n",
       "    </tr>\n",
       "    <tr>\n",
       "      <th>610</th>\n",
       "      <td>0</td>\n",
       "      <td>0</td>\n",
       "      <td>0</td>\n",
       "      <td>0</td>\n",
       "      <td>0</td>\n",
       "      <td>0</td>\n",
       "      <td>0</td>\n",
       "      <td>0</td>\n",
       "      <td>0</td>\n",
       "      <td>0</td>\n",
       "      <td>...</td>\n",
       "      <td>0</td>\n",
       "      <td>0</td>\n",
       "      <td>0</td>\n",
       "      <td>0</td>\n",
       "      <td>0</td>\n",
       "      <td>0</td>\n",
       "      <td>0</td>\n",
       "      <td>0</td>\n",
       "      <td>0</td>\n",
       "      <td>0</td>\n",
       "    </tr>\n",
       "  </tbody>\n",
       "</table>\n",
       "<p>488 rows × 100 columns</p>\n",
       "</div>"
      ],
      "text/plain": [
       "     187595  891     102033  54881   31364   26084   130490  87529   177593  \\\n",
       "1         0       0       0       0       0       0       0       0       0   \n",
       "2         0       0       0       0       0       0       0       0       0   \n",
       "3         0       0       0       0       0       0       0       0       0   \n",
       "4         0       0       0       0       0       0       0       0       0   \n",
       "5         0       0       0       0       0       0       0       0       0   \n",
       "..      ...     ...     ...     ...     ...     ...     ...     ...     ...   \n",
       "606       0       0       0       0       0       0       0       0       0   \n",
       "607       0       0       0       0       0       0       0       0       0   \n",
       "608       0       0       0       0       0       0       0       0       0   \n",
       "609       0       0       0       0       0       0       0       0       0   \n",
       "610       0       0       0       0       0       0       0       0       0   \n",
       "\n",
       "     6460    ...  1235    965     930     53129   1361    55814   1951    \\\n",
       "1         0  ...       0       0       0       0       0       0       0   \n",
       "2         0  ...       0       0       0       0       0       0       0   \n",
       "3         0  ...       0       0       0       0       0       0       0   \n",
       "4         0  ...       0       0       0       0       0       0       0   \n",
       "5         0  ...       0       0       0       0       0       0       0   \n",
       "..      ...  ...     ...     ...     ...     ...     ...     ...     ...   \n",
       "606       0  ...       0       0       0       0       0       0       0   \n",
       "607       0  ...       0       0       0       0       0       0       0   \n",
       "608       0  ...       0       0       0       0       0       0       0   \n",
       "609       0  ...       0       0       0       0       0       0       0   \n",
       "610       0  ...       0       0       0       0       0       0       0   \n",
       "\n",
       "     3334    47999   750     \n",
       "1         0       0       0  \n",
       "2         0       0       0  \n",
       "3         0       0       0  \n",
       "4         0       0       0  \n",
       "5         0       0       0  \n",
       "..      ...     ...     ...  \n",
       "606       0       0       0  \n",
       "607       0       0       0  \n",
       "608       0       0       0  \n",
       "609       0       0       0  \n",
       "610       0       0       0  \n",
       "\n",
       "[488 rows x 100 columns]"
      ]
     },
     "execution_count": 13,
     "metadata": {},
     "output_type": "execute_result"
    }
   ],
   "source": [
    "val_df = val_df.sort_values(\"rating\", ascending=False)\n",
    "val_df_group = val_df.groupby(\"userId\")\n",
    "D = list(map(lambda user: val_df_group.get_group(user)[\"movieId\"].values[0:100], users))\n",
    "\n",
    "# For each user, compute relevance\n",
    "# rel_D[u, m] = 1 if recommended movie m is relevant to user u and 0 otherwise\n",
    "rel_D[:] = np.row_stack(list(map(lambda D_i: np.isin(R_i, D_i).astype(int), D)))\n",
    "rel_D"
   ]
  },
  {
   "cell_type": "code",
   "execution_count": 14,
   "id": "dominant-outline",
   "metadata": {},
   "outputs": [
    {
     "name": "stdout",
     "output_type": "stream",
     "text": [
      "Precision: 0.48156%\n"
     ]
    }
   ],
   "source": [
    "# Compute precision at k=100\n",
    "k = 100\n",
    "precision = np.mean(np.sum(rel_D, axis=1) / k)\n",
    "print(\"Precision: {}%\".format(np.round(precision*100, 5)))"
   ]
  },
  {
   "cell_type": "code",
   "execution_count": 15,
   "id": "living-illustration",
   "metadata": {},
   "outputs": [
    {
     "name": "stdout",
     "output_type": "stream",
     "text": [
      "The MAP is: 0.0648%\n"
     ]
    }
   ],
   "source": [
    "# Compute MAP\n",
    "j_plus_1 = np.arange(1, 101)\n",
    "inner_sum = np.sum(rel_D / j_plus_1, axis=1)\n",
    "N = np.fromiter(map(lambda D_i: D_i.size, D), dtype=int) # an array where N[i] = number of movies rated by user i\n",
    "MAP = np.mean(1/N * inner_sum)\n",
    "print(\"The MAP is: {}%\".format(np.round(MAP*100, 5)))"
   ]
  },
  {
   "cell_type": "markdown",
   "id": "dirty-reggae",
   "metadata": {},
   "source": [
    "### Questions\n",
    "\n",
    "* Should we be constructing our baseline model using the whole dataset or only the training set?\n",
    "\n",
    "### Comments\n",
    "* Is it ok to use training set + validation set to train our baseline model? Would the scores be comparable to the more advanced model, which we train only on the training set?\n",
    "\n",
    "### To-Do\n",
    "* Currently we only keep movies with at least 5 ratings - we should probably change this number depending on the size of the dataset"
   ]
  }
 ],
 "metadata": {
  "kernelspec": {
   "display_name": "Python 3",
   "language": "python",
   "name": "python3"
  },
  "language_info": {
   "codemirror_mode": {
    "name": "ipython",
    "version": 3
   },
   "file_extension": ".py",
   "mimetype": "text/x-python",
   "name": "python",
   "nbconvert_exporter": "python",
   "pygments_lexer": "ipython3",
   "version": "3.8.5"
  }
 },
 "nbformat": 4,
 "nbformat_minor": 5
}
