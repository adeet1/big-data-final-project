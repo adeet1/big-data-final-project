{
 "cells": [
  {
   "cell_type": "code",
   "execution_count": 1,
   "id": "earlier-french",
   "metadata": {},
   "outputs": [],
   "source": [
    "import numpy as np\n",
    "import pandas as pd\n",
    "import matplotlib.pyplot as plt\n",
    "import dask.dataframe as dd\n",
    "import dask.bag as db\n",
    "import tqdm \n",
    "\n",
    "from distributed import Client\n",
    "from dask_jobqueue import SLURMCluster\n",
    "from IPython.display import display\n",
    "\n",
    "import os\n",
    "from glob import glob"
   ]
  },
  {
   "cell_type": "code",
   "execution_count": 2,
   "id": "general-contributor",
   "metadata": {},
   "outputs": [
    {
     "data": {
      "text/html": [
       "<table style=\"border: 2px solid white;\">\n",
       "<tr>\n",
       "<td style=\"vertical-align: top; border: 0px solid white\">\n",
       "<h3 style=\"text-align: left;\">Client</h3>\n",
       "<ul style=\"text-align: left; list-style: none; margin: 0; padding: 0;\">\n",
<<<<<<< HEAD
       "  <li><b>Scheduler: </b>tcp://127.0.0.1:44257</li>\n",
=======
       "  <li><b>Scheduler: </b>tcp://127.0.0.1:45423</li>\n",
>>>>>>> a83c6cfbf8400c509125dcc458bd74553bda70a2
       "  <li><b>Dashboard: </b><a href='http://127.0.0.1:8787/status' target='_blank'>http://127.0.0.1:8787/status</a></li>\n",
       "</ul>\n",
       "</td>\n",
       "<td style=\"vertical-align: top; border: 0px solid white\">\n",
       "<h3 style=\"text-align: left;\">Cluster</h3>\n",
       "<ul style=\"text-align: left; list-style:none; margin: 0; padding: 0;\">\n",
<<<<<<< HEAD
       "  <li><b>Workers: </b>1</li>\n",
       "  <li><b>Cores: </b>1</li>\n",
=======
       "  <li><b>Workers: </b>2</li>\n",
       "  <li><b>Cores: </b>2</li>\n",
>>>>>>> a83c6cfbf8400c509125dcc458bd74553bda70a2
       "  <li><b>Memory: </b>4.29 GB</li>\n",
       "</ul>\n",
       "</td>\n",
       "</tr>\n",
       "</table>"
      ],
      "text/plain": [
<<<<<<< HEAD
       "<Client: 'tcp://127.0.0.1:44257' processes=1 threads=1, memory=4.29 GB>"
=======
       "<Client: 'tcp://127.0.0.1:45423' processes=2 threads=2, memory=4.29 GB>"
>>>>>>> a83c6cfbf8400c509125dcc458bd74553bda70a2
      ]
     },
     "metadata": {},
     "output_type": "display_data"
    }
   ],
   "source": [
    "# Set LOCAL to True for single-machine execution while developing\n",
    "# Set LOCAL to False for cluster execution\n",
    "LOCAL = True\n",
    "\n",
    "if LOCAL:\n",
    "    # This line creates a single-machine dask client\n",
    "    client = Client()\n",
    "else:    \n",
    "    # This line creates a SLURM cluster dask and dask client\n",
    "    # Logging outputs will be stored in /scratch/{your-netid}\n",
    "    \n",
    "    cluster = SLURMCluster(memory='256GB', cores=8, python='/scratch/work/public/dask/bin/python', \n",
    "                               local_directory='/tmp/{}/'.format(os.environ['SLURM_JOB_USER']),\n",
    "                               job_extra=['--output=/scratch/{}/slurm-%j.out'.format(os.environ['SLURM_JOB_USER'])])\n",
    "\n",
    "    cluster.submit_command = 'slurm'\n",
    "    cluster.scale(100)\n",
    "\n",
    "    display(cluster)\n",
    "    client = Client(cluster)\n",
    "\n",
    "display(client)"
   ]
  },
  {
   "cell_type": "code",
   "execution_count": 22,
   "id": "exotic-bailey",
   "metadata": {},
   "outputs": [],
   "source": [
    "os.chdir('/scratch/work/courses/DSGA1004-2021/movielens/ml-latest')"
   ]
  },
  {
   "cell_type": "code",
   "execution_count": 23,
   "id": "damaged-stations",
   "metadata": {
    "scrolled": true
   },
   "outputs": [
    {
     "name": "stdout",
     "output_type": "stream",
     "text": [
      "This dataset contains 100836 rows and 4 columns.\n"
     ]
    },
    {
     "data": {
      "text/html": [
       "<div>\n",
       "<style scoped>\n",
       "    .dataframe tbody tr th:only-of-type {\n",
       "        vertical-align: middle;\n",
       "    }\n",
       "\n",
       "    .dataframe tbody tr th {\n",
       "        vertical-align: top;\n",
       "    }\n",
       "\n",
       "    .dataframe thead th {\n",
       "        text-align: right;\n",
       "    }\n",
       "</style>\n",
       "<table border=\"1\" class=\"dataframe\">\n",
       "  <thead>\n",
       "    <tr style=\"text-align: right;\">\n",
       "      <th></th>\n",
       "      <th>userId</th>\n",
       "      <th>movieId</th>\n",
       "      <th>rating</th>\n",
       "      <th>timestamp</th>\n",
       "    </tr>\n",
       "  </thead>\n",
       "  <tbody>\n",
       "    <tr>\n",
       "      <th>0</th>\n",
       "      <td>429</td>\n",
       "      <td>595</td>\n",
       "      <td>5.0</td>\n",
       "      <td>828124615</td>\n",
       "    </tr>\n",
       "    <tr>\n",
       "      <th>1</th>\n",
       "      <td>429</td>\n",
       "      <td>588</td>\n",
       "      <td>5.0</td>\n",
       "      <td>828124615</td>\n",
       "    </tr>\n",
       "    <tr>\n",
       "      <th>2</th>\n",
       "      <td>429</td>\n",
       "      <td>590</td>\n",
       "      <td>5.0</td>\n",
       "      <td>828124615</td>\n",
       "    </tr>\n",
       "    <tr>\n",
       "      <th>3</th>\n",
       "      <td>429</td>\n",
       "      <td>592</td>\n",
       "      <td>5.0</td>\n",
       "      <td>828124615</td>\n",
       "    </tr>\n",
       "    <tr>\n",
       "      <th>4</th>\n",
       "      <td>429</td>\n",
       "      <td>432</td>\n",
       "      <td>3.0</td>\n",
       "      <td>828124615</td>\n",
       "    </tr>\n",
       "  </tbody>\n",
       "</table>\n",
       "</div>"
      ],
      "text/plain": [
       "   userId  movieId  rating  timestamp\n",
       "0     429      595     5.0  828124615\n",
       "1     429      588     5.0  828124615\n",
       "2     429      590     5.0  828124615\n",
       "3     429      592     5.0  828124615\n",
       "4     429      432     3.0  828124615"
      ]
     },
     "execution_count": 23,
     "metadata": {},
     "output_type": "execute_result"
    }
   ],
   "source": [
    "# Import the ratings dataset\n",
    "ratings_df = pd.read_csv('ratings.csv').sort_values(by=\"timestamp\").reset_index(drop=True)\n",
    "print(\"This dataset contains {} rows and {} columns.\".format(len(ratings_df), ratings_df.shape[1]))\n",
    "ratings_df.head()"
   ]
  },
  {
   "cell_type": "markdown",
   "id": "valid-medline",
   "metadata": {},
   "source": [
    "Split each user's data into training-validation-test set. For each user, use 60% of their ratings for training, 20% for validation, and 20% for testing."
   ]
  },
  {
   "cell_type": "code",
   "execution_count": 24,
   "id": "growing-scoop",
   "metadata": {},
   "outputs": [],
   "source": [
    "# For each user, compute the number of ratings they submitted\n",
    "num_ratings_per_user = ratings_df.groupby('userId').count()['rating'] # only do the computation on the first 100 users for testing the code"
   ]
  },
  {
   "cell_type": "code",
   "execution_count": 25,
   "id": "detailed-density",
   "metadata": {},
   "outputs": [
    {
     "data": {
      "application/vnd.jupyter.widget-view+json": {
<<<<<<< HEAD
       "model_id": "759e9b744c104c6ab7fe9469e6ea9460",
=======
       "model_id": "204ea53742f3488a87b38b3268c0ce44",
>>>>>>> a83c6cfbf8400c509125dcc458bd74553bda70a2
       "version_major": 2,
       "version_minor": 0
      },
      "text/plain": [
       "  0%|          | 0/610 [00:00<?, ?it/s]"
      ]
     },
     "metadata": {},
     "output_type": "display_data"
    }
   ],
   "source": [
    "# TO-DO: Will need to optimize this algorithm - it's quite slow\n",
    "# Create training, validation, and test sets for each user\n",
    "training_df = pd.DataFrame()\n",
    "val_df = pd.DataFrame()\n",
    "test_df = pd.DataFrame()\n",
    "for userId, num_ratings in tqdm.notebook.tqdm(list(zip(num_ratings_per_user.index, num_ratings_per_user))):\n",
    "    # Get all the ratings for this user\n",
    "    user_ratings = ratings_df[ratings_df['userId'] == userId].reset_index(drop=True)\n",
    "    \n",
    "    # Make the first 60% of this user's ratings the training set\n",
    "    index_train = int(0.6*num_ratings)\n",
    "    user_train = user_ratings.loc[:index_train-1, :]\n",
    "    \n",
    "    # Make the next 20% of this user's ratings the validation set\n",
    "    index_val = index_train + int(0.2*num_ratings)\n",
    "    user_val = user_ratings.loc[index_train:index_val-1, :]\n",
    "    \n",
    "    # Make the last 20% of this user's ratings the testing set\n",
    "    user_test = user_ratings.loc[index_val:, :]\n",
    "    \n",
    "    # Add this user's individual training, validation, and testing sets to the\n",
    "    # unified training, validation, and testing sets, respectively\n",
    "    training_df = pd.concat([training_df, user_train], axis=0)\n",
    "    val_df = pd.concat([val_df, user_val], axis=0)\n",
    "    test_df = pd.concat([test_df, user_test], axis=0)"
   ]
  },
  {
   "cell_type": "code",
   "execution_count": 19,
   "id": "radio-glossary",
   "metadata": {},
   "outputs": [
    {
     "data": {
      "text/plain": [
       "0        1\n",
       "1        1\n",
       "2        1\n",
       "3        1\n",
       "4        1\n",
       "      ... \n",
       "301    100\n",
       "302    100\n",
       "303    100\n",
       "304    100\n",
       "305    100\n",
       "Name: userId, Length: 6255, dtype: int64"
      ]
     },
     "execution_count": 19,
     "metadata": {},
     "output_type": "execute_result"
    }
   ],
   "source": [
    "training_df[\"userId\"]"
   ]
  },
  {
   "cell_type": "code",
   "execution_count": null,
   "id": "killing-drink",
   "metadata": {},
   "outputs": [],
   "source": [
    "# Sanity check (these two should match)\n",
    "print(num_ratings_per_user.sum()) # total number of ratings\n",
    "print(sum([len(training_df), len(val_df), len(test_df)]))"
   ]
  },
  {
   "cell_type": "markdown",
   "id": "genetic-press",
   "metadata": {},
   "source": [
    "# Baseline Model"
   ]
  },
  {
   "cell_type": "markdown",
   "id": "fewer-uruguay",
   "metadata": {},
   "source": [
    "Compute the mean rating of each movie by grouping by movieId, and aggregating by mean. Note that we don't want to explicitly compute the utility matrix, because doing so will take a very long time, and the resulting matrix will be very large and take up a lot of memory.\n",
    "\n",
    "We compute the 100 highest mean-rated movies from the training set. We will recommend these 100 movies to every single user in the validation set."
   ]
  },
  {
   "cell_type": "code",
<<<<<<< HEAD
   "execution_count": 8,
   "id": "brief-mortgage",
   "metadata": {},
   "outputs": [
    {
     "data": {
      "image/png": "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\n",
      "text/plain": [
       "<Figure size 432x288 with 1 Axes>"
      ]
     },
     "metadata": {
      "needs_background": "light"
     },
     "output_type": "display_data"
    }
   ],
   "source": [
    "plt.hist(ratings_df.groupby('movieId').count()['userId'], bins=50)\n",
    "plt.show()"
   ]
  },
  {
   "cell_type": "markdown",
   "id": "broadband-variation",
   "metadata": {},
   "source": [
    "WE SHOULD CHOOSE THE THRESHOLD DEPENDING ON OUR DATASET SIZE"
   ]
  },
  {
   "cell_type": "code",
   "execution_count": 9,
   "id": "drawn-piece",
=======
   "execution_count": 26,
   "id": "behavioral-diagram",
>>>>>>> a83c6cfbf8400c509125dcc458bd74553bda70a2
   "metadata": {},
   "outputs": [],
   "source": [
    "# Count the number of ratings for each movie\n",
    "num_ratings_per_movie = ratings_df.groupby(\"movieId\").count()[\"rating\"]\n",
    "\n",
    "# Remove any movies with less than 20 ratings\n",
    "ratings_df = ratings_df.join(num_ratings_per_movie, on = \"movieId\", rsuffix=\"_count\")\n",
    "ratings_df = ratings_df[ratings_df[\"rating_count\"] >= 20]"
   ]
  },
  {
   "cell_type": "code",
<<<<<<< HEAD
   "execution_count": 10,
   "id": "eleven-prince",
=======
   "execution_count": 27,
   "id": "worldwide-schedule",
>>>>>>> a83c6cfbf8400c509125dcc458bd74553bda70a2
   "metadata": {},
   "outputs": [
    {
     "name": "stdout",
     "output_type": "stream",
     "text": [
      "Int64Index([  1104,    318,    922,    898,    475,   1204,    246,    858,\n",
      "              1235, 168252,   2959,   1276,    750,    904,   1221,  48516,\n",
      "              1213,    930,   1267,    912,  58559,     50,   1197,    260,\n",
      "              1212,    926,   1245,    527,   3275,   1208,    933,   2329,\n",
      "              1196,   1233,   1252,   1198,   1193,   1089,    296,   2571,\n",
      "              2019,   1228,   1945,   1225,    908,   4973,   1199,   2160,\n",
      "              1242,    913,    356,   1172,   1136,    593,   7361,  57669,\n",
      "              4011,   5618,   3681,   1203,   3147,    741,   2324,   6016,\n",
      "              2028,   1201,   3037,  56782,   2067,   1210,  68157,   1262,\n",
      "              4226,   1250,   1272,   1207,   7153,  44555,    608,   1266,\n",
      "             78499,   5995,  92259,   4993,   1244,    111,    541,   1086,\n",
      "              1222,    720,   2502,  27773,   1223,   1258,   1704,   1673,\n",
      "             31658,    899,  38061,   1249],\n",
      "           dtype='int64', name='movieId')\n"
     ]
    }
   ],
   "source": [
    "mean_ratings = ratings_df[[\"movieId\", \"rating\"]].groupby(\"movieId\").mean()[\"rating\"]\n",
    "mean_ratings = mean_ratings.sort_values(ascending=False)\n",
    "R_i = mean_ratings.head(100).index\n",
    "print(R_i)"
   ]
  },
  {
   "cell_type": "code",
<<<<<<< HEAD
   "execution_count": 12,
   "id": "temporal-comedy",
   "metadata": {},
   "outputs": [
    {
     "name": "stderr",
     "output_type": "stream",
     "text": [
      "100%|██████████| 100/100 [02:12<00:00,  1.32s/it]\n"
     ]
=======
   "execution_count": 30,
   "id": "informal-telephone",
   "metadata": {},
   "outputs": [
    {
     "data": {
      "application/vnd.jupyter.widget-view+json": {
       "model_id": "c6ab37ee5ec04f14aff26454b71a54d3",
       "version_major": 2,
       "version_minor": 0
      },
      "text/plain": [
       "  0%|          | 0/610 [00:00<?, ?it/s]"
      ]
     },
     "metadata": {},
     "output_type": "display_data"
>>>>>>> a83c6cfbf8400c509125dcc458bd74553bda70a2
    }
   ],
   "source": [
    "rel = np.empty(shape=(len(val_df['userId'].unique()), 100))\n",
    "rel[:] = np.nan\n",
<<<<<<< HEAD
    "for user in tqdm.tqdm_notebook(list(val_df[\"userId\"].unique())):\n",
    "    # If the user rated less than 100 movies we dont need to sort, we can just take all of them\n",
    "    D_i = val_df[val_df['userId'] == user].compute().sort_values(by='rating', ascending=False).head(100)['movieId']\n",
=======
    "for user in tqdm.notebook.tqdm(list(val_df[\"userId\"].unique())):\n",
    "    # If the user rated less than 100 movies we dont need to sort, we can just take all of them\n",
    "    D_i = val_df[val_df['userId'] == user].sort_values(by='rating', ascending=False).head(100)['movieId']\n",
>>>>>>> a83c6cfbf8400c509125dcc458bd74553bda70a2
    "    for idx in range(len(R_i)):\n",
    "        movie = R_i[idx]      \n",
    "        if movie in D_i.values: \n",
    "            rel[int(user)-1, idx] = 1\n",
    "        else:\n",
<<<<<<< HEAD
    "            rel[int(user)-1, idx] = 0 "
=======
    "            rel[int(user)-1, idx] = 0"
>>>>>>> a83c6cfbf8400c509125dcc458bd74553bda70a2
   ]
  },
  {
   "cell_type": "code",
<<<<<<< HEAD
   "execution_count": 14,
   "id": "vertical-cuisine",
   "metadata": {},
   "outputs": [
    {
     "data": {
      "text/plain": [
       "array([[0., 0., 0., ..., 0., 0., 0.],\n",
       "       [0., 0., 0., ..., 0., 0., 0.],\n",
       "       [0., 0., 0., ..., 0., 0., 0.],\n",
       "       ...,\n",
       "       [0., 0., 0., ..., 0., 0., 0.],\n",
       "       [0., 0., 0., ..., 0., 0., 0.],\n",
       "       [0., 0., 0., ..., 0., 0., 0.]])"
      ]
     },
     "execution_count": 14,
     "metadata": {},
     "output_type": "execute_result"
    }
   ],
   "source": [
    "rel"
   ]
  },
  {
   "cell_type": "markdown",
   "id": "behavioral-runner",
   "metadata": {},
   "source": [
    "### Questions"
   ]
  },
  {
   "cell_type": "markdown",
   "id": "underlying-figure",
   "metadata": {},
   "source": [
    "* Should we be constructing our baseline model using the whole dataset or only the training set?"
   ]
  },
  {
   "cell_type": "code",
   "execution_count": null,
   "id": "industrial-genre",
=======
   "execution_count": null,
   "id": "banner-trouble",
>>>>>>> a83c6cfbf8400c509125dcc458bd74553bda70a2
   "metadata": {},
   "outputs": [],
   "source": []
  }
 ],
 "metadata": {
  "kernelspec": {
   "display_name": "Python 3",
   "language": "python",
   "name": "python3"
  },
  "language_info": {
   "codemirror_mode": {
    "name": "ipython",
    "version": 3
   },
   "file_extension": ".py",
   "mimetype": "text/x-python",
   "name": "python",
   "nbconvert_exporter": "python",
   "pygments_lexer": "ipython3",
   "version": "3.8.5"
  }
 },
 "nbformat": 4,
 "nbformat_minor": 5
}
